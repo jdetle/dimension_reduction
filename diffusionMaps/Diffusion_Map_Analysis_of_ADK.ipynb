{
 "cells": [
  {
   "cell_type": "code",
   "execution_count": 117,
   "metadata": {
    "collapsed": false
   },
   "outputs": [],
   "source": [
    "import MDAnalysis as MDA"
   ]
  },
  {
   "cell_type": "markdown",
   "metadata": {},
   "source": [
    "Please follow [this link](http://ipywidgets.readthedocs.io/en/latest/user_install.html) to install ipywidgets and allow notebook extensions for interactivity"
   ]
  },
  {
   "cell_type": "code",
   "execution_count": 118,
   "metadata": {
    "collapsed": false
   },
   "outputs": [
    {
     "name": "stderr",
     "output_type": "stream",
     "text": [
      "MDAnalysis  : INFO     MDAnalysis 0.15.1-dev0 STARTED logging to 'MDAnalysis.log'\n",
      "MDAnalysis  : INFO     MDAnalysis 0.15.1-dev0 STARTED logging to 'MDAnalysis.log'\n"
     ]
    }
   ],
   "source": [
    "from ipywidgets import interact\n",
    "import os\n",
    "import numpy as np\n",
    "import MDAnalysis.analysis.diffusionmap as diffusionmap\n",
    "import MDAnalysis.analysis.rms as rms\n",
    "MDA.start_logging()"
   ]
  },
  {
   "cell_type": "code",
   "execution_count": 119,
   "metadata": {
    "collapsed": false
   },
   "outputs": [
    {
     "name": "stdout",
     "output_type": "stream",
     "text": [
      "0.15.1-dev0\n"
     ]
    }
   ],
   "source": [
    "print MDA.__version__"
   ]
  },
  {
   "cell_type": "code",
   "execution_count": 120,
   "metadata": {
    "collapsed": true
   },
   "outputs": [],
   "source": [
    "from bokeh.plotting import figure, show, output_notebook\n",
    "from bokeh.io import push_notebook\n",
    "from bokeh.models import HoverTool, BoxSelectTool\n"
   ]
  },
  {
   "cell_type": "code",
   "execution_count": 121,
   "metadata": {
    "collapsed": false
   },
   "outputs": [
    {
     "name": "stdout",
     "output_type": "stream",
     "text": [
      "/home/jdetlefs/github/dimension_reduction/diffusionMaps\n"
     ]
    }
   ],
   "source": [
    "print os.getcwd()"
   ]
  },
  {
   "cell_type": "markdown",
   "metadata": {
    "collapsed": true
   },
   "source": [
    "*Be sure to install the adk simulation from [this link](http://becksteinlab.github.io/MDAnalysis-workshop/datadownload.html)*\n",
    "\n",
    "These are commands you need to input in the terminal in mac or linux to download and unzip:\n",
    "\n",
    "```\n",
    "curl -o mdatrj.zip -L 'https://www.dropbox.com/sh/am6y00kac8myihe/AABDiQI28fWnRZueQTT7W2s1a?dl=1'\n",
    "unzip mdatrj.zip && rm mdatrj.zip\n",
    "```\n"
   ]
  },
  {
   "cell_type": "code",
   "execution_count": 122,
   "metadata": {
    "collapsed": false
   },
   "outputs": [],
   "source": [
    "u = MDA.Universe('./equilibrium/adk4AKE.psf','./equilibrium/1ake_007-nowater-core-dt240ps.dcd')\n"
   ]
  },
  {
   "cell_type": "code",
   "execution_count": 123,
   "metadata": {
    "collapsed": false,
    "scrolled": true
   },
   "outputs": [
    {
     "name": "stderr",
     "output_type": "stream",
     "text": [
      "MDAnalysis.analysis.base: INFO     Starting preparation\n",
      "MDAnalysis.analysis.base: INFO     Starting preparation\n",
      "MDAnalysis.analysis.base: INFO     Finishing up\n",
      "MDAnalysis.analysis.base: INFO     Finishing up\n"
     ]
    },
    {
     "name": "stdout",
     "output_type": "stream",
     "text": [
      "CPU times: user 1.33 s, sys: 128 ms, total: 1.46 s\n",
      "Wall time: 1.47 s\n"
     ]
    }
   ],
   "source": [
    "dist_step20 = diffusionmap.DistanceMatrix(u, select='backbone', step=20)\n",
    "%time dist_step20.run()"
   ]
  },
  {
   "cell_type": "code",
   "execution_count": 124,
   "metadata": {
    "collapsed": false
   },
   "outputs": [
    {
     "name": "stderr",
     "output_type": "stream",
     "text": [
      "MDAnalysis.analysis.base: INFO     Starting preparation\n",
      "MDAnalysis.analysis.base: INFO     Starting preparation\n",
      "MDAnalysis.analysis.base: INFO     Finishing up\n",
      "MDAnalysis.analysis.base: INFO     Finishing up\n"
     ]
    },
    {
     "name": "stdout",
     "output_type": "stream",
     "text": [
      "CPU times: user 5.08 s, sys: 556 ms, total: 5.64 s\n",
      "Wall time: 5.64 s\n"
     ]
    }
   ],
   "source": [
    "dist_step10 = diffusionmap.DistanceMatrix(u, select='backbone', step=10)\n",
    "%time dist_step10.run()"
   ]
  },
  {
   "cell_type": "code",
   "execution_count": null,
   "metadata": {
    "collapsed": false
   },
   "outputs": [
    {
     "name": "stderr",
     "output_type": "stream",
     "text": [
      "MDAnalysis.analysis.base: INFO     Starting preparation\n",
      "MDAnalysis.analysis.base: INFO     Starting preparation\n",
      "MDAnalysis.analysis.base: INFO     Finishing up\n",
      "MDAnalysis.analysis.base: INFO     Finishing up\n"
     ]
    },
    {
     "name": "stdout",
     "output_type": "stream",
     "text": [
      "CPU times: user 19.9 s, sys: 2.23 s, total: 22.1 s\n",
      "Wall time: 22.1 s\n"
     ]
    }
   ],
   "source": [
    "dist_step5 = diffusionmap.DistanceMatrix(u, select='backbone', step=5)\n",
    "%time dist_step5.run()"
   ]
  },
  {
   "cell_type": "code",
   "execution_count": null,
   "metadata": {
    "collapsed": false
   },
   "outputs": [
    {
     "name": "stderr",
     "output_type": "stream",
     "text": [
      "MDAnalysis.analysis.base: INFO     Starting preparation\n",
      "MDAnalysis.analysis.base: INFO     Starting preparation\n"
     ]
    }
   ],
   "source": [
    "dist_step3 = diffusionmap.DistanceMatrix(u, select='backbone', step=3)\n",
    "%time dist_step3.run()"
   ]
  },
  {
   "cell_type": "markdown",
   "metadata": {},
   "source": [
    "That took a while for me, let's stop there."
   ]
  },
  {
   "cell_type": "markdown",
   "metadata": {},
   "source": [
    "# Using diffusion maps\n",
    "Now that weve figured out timings,\n",
    "lets \n",
    "+ investigate the distance_matrix\n",
    "+ pick a reasonable constant epsilon \n",
    "+ find the spectrum of reasonable eigenvalues\n",
    "+ perform an embedding\n",
    "+ plot the coordinates of the embedding"
   ]
  },
  {
   "cell_type": "markdown",
   "metadata": {
    "collapsed": true
   },
   "source": [
    "A reasonable value of epsilon corresponds to two elements that are close on a free energy landscape, so lets set epsilon to 1.101 one of our smaller rmsd jumps between frames. Before doing this, let's save the distance matrix, because after determining the epsilon, it will be permanently altered for memory savings."
   ]
  },
  {
   "cell_type": "code",
   "execution_count": null,
   "metadata": {
    "collapsed": false
   },
   "outputs": [],
   "source": [
    "dmap = diffusionmap.DiffusionMap(dist_step3, epsilon = 5)\n",
    "dmap.run()\n",
    "print dmap.eigenvectors[1:3].T.shape, dmap.eigenvalues[1:3].T.shape"
   ]
  },
  {
   "cell_type": "code",
   "execution_count": null,
   "metadata": {
    "collapsed": false
   },
   "outputs": [],
   "source": [
    "print dist_step3.dist_matrix"
   ]
  },
  {
   "cell_type": "code",
   "execution_count": null,
   "metadata": {
    "collapsed": false
   },
   "outputs": [],
   "source": [
    "# diffusion map the two most dominant eigenvectors\n",
    "fit = dmap.transform(2, 1)\n",
    "fit.shape[0]"
   ]
  },
  {
   "cell_type": "code",
   "execution_count": null,
   "metadata": {
    "collapsed": false
   },
   "outputs": [],
   "source": [
    "output_notebook()"
   ]
  },
  {
   "cell_type": "code",
   "execution_count": null,
   "metadata": {
    "collapsed": false
   },
   "outputs": [],
   "source": [
    "TOOLS = [BoxSelectTool(), HoverTool()]\n",
    "#fix range to show effect of scaling better\n",
    "p = figure(tools=TOOLS, x_range=(-1,1), y_range=(-1,1))\n",
    "p.title.text = 'coordinates of frames in two dimensional diffusion space'\n",
    "fit = dmap.transform(2,1)\n",
    "x = fit[:,0]\n",
    "y = fit[:,1]\n",
    "r = p.circle(x,y, fill_alpha=.6)\n"
   ]
  },
  {
   "cell_type": "code",
   "execution_count": null,
   "metadata": {
    "collapsed": false
   },
   "outputs": [],
   "source": [
    "def update(t=0,vect0=0, vect1=1):\n",
    "    fit = dmap.transform(time=t)\n",
    "    x = fit[:,vect0]\n",
    "    y = fit[:,vect1]\n",
    "    r.data_source.data['x'] = x\n",
    "    r.data_source.data['y'] = y\n",
    "    push_notebook()"
   ]
  },
  {
   "cell_type": "code",
   "execution_count": null,
   "metadata": {
    "collapsed": false
   },
   "outputs": [],
   "source": [
    "show(p)"
   ]
  },
  {
   "cell_type": "code",
   "execution_count": null,
   "metadata": {
    "collapsed": false
   },
   "outputs": [],
   "source": [
    "interact(update, t=(0,5,.01), vect0=(0,10,1), vect1=(0,10,1))"
   ]
  },
  {
   "cell_type": "markdown",
   "metadata": {
    "collapsed": true
   },
   "source": [
    "As you can see, most of the points far away in terms of diffusion distance occur only in the beginning! So it looks like right now diffusion mapping only captures the initial closing, but not the opening. (Right now bokeh has an issue with too many hits with the hover tool.)"
   ]
  },
  {
   "cell_type": "code",
   "execution_count": null,
   "metadata": {
    "collapsed": true
   },
   "outputs": [],
   "source": [
    "def diffusion_distance(fit):\n",
    "    d = np.zeros((fit.shape[0]-1))\n",
    "    for i in range(fit.shape[0]-1):\n",
    "        d[i] = (rms.rmsd(fit[i],fit[i+1]))\n",
    "    return d"
   ]
  },
  {
   "cell_type": "code",
   "execution_count": null,
   "metadata": {
    "collapsed": false
   },
   "outputs": [],
   "source": [
    "dist = diffusion_distance(fit)"
   ]
  },
  {
   "cell_type": "code",
   "execution_count": null,
   "metadata": {
    "collapsed": false
   },
   "outputs": [],
   "source": [
    "TOOLS = [BoxSelectTool(), HoverTool()]\n",
    "#fix range to show effect of scaling better\n",
    "p_2 = figure(tools=TOOLS, y_range=(-1,2))\n",
    "p_2.title.text = 'Diffusion Distance from previous frame'\n",
    "x_2 = range(dist.shape[0])\n",
    "y_2 = dist\n",
    "r1 = p_2.line(x_2[:50], y_2[:50], line_width=2)\n",
    "r2 = p_2.circle(x_2[:50],y_2[:50], fill_alpha=.6)\n"
   ]
  },
  {
   "cell_type": "code",
   "execution_count": null,
   "metadata": {
    "collapsed": false
   },
   "outputs": [],
   "source": [
    "def update_dist(n_eigenvectors=2, t=0, begin=0, end=100):\n",
    "    fit = dmap.transform(n_eigenvectors,t)\n",
    "    dist = diffusion_distance(fit)\n",
    "    x_2 = range(dist.shape[0])\n",
    "    y_2 = dist\n",
    "    r1.data_source.data['x'] = x_2[begin:end]\n",
    "    r1.data_source.data['y'] = y_2[begin:end]\n",
    "    r2.data_source.data['x'] = x_2[begin:end]\n",
    "    r2.data_source.data['y'] = y_2[begin:end]\n",
    "    push_notebook()"
   ]
  },
  {
   "cell_type": "code",
   "execution_count": null,
   "metadata": {
    "collapsed": false
   },
   "outputs": [],
   "source": [
    "show(p_2)"
   ]
  },
  {
   "cell_type": "code",
   "execution_count": null,
   "metadata": {
    "collapsed": false
   },
   "outputs": [],
   "source": [
    "interact(update_dist, n_eigenvectors=(1,20,1), t=(0,10,.1), begin = (0,100), end= (10, 1000))"
   ]
  },
  {
   "cell_type": "markdown",
   "metadata": {
    "collapsed": true
   },
   "source": [
    "Play with the sliders and there are some interesting insights. When the diffusion space is the first two vectors, we get insight that the large diffusion distance frames occur in the beginning. Increasing the number of vectors in the diffusion space and the another set of frames jumps out between 30 and 50. So maybe 0-20 is an opening and 30-50 is the closing action, the frames need to be inspected with visualization software to understand. "
   ]
  },
  {
   "cell_type": "code",
   "execution_count": null,
   "metadata": {
    "collapsed": true
   },
   "outputs": [],
   "source": []
  },
  {
   "cell_type": "code",
   "execution_count": null,
   "metadata": {
    "collapsed": true
   },
   "outputs": [],
   "source": []
  }
 ],
 "metadata": {
  "kernelspec": {
   "display_name": "Python 2",
   "language": "python",
   "name": "python2"
  },
  "language_info": {
   "codemirror_mode": {
    "name": "ipython",
    "version": 2
   },
   "file_extension": ".py",
   "mimetype": "text/x-python",
   "name": "python",
   "nbconvert_exporter": "python",
   "pygments_lexer": "ipython2",
   "version": "2.7.6"
  },
  "widgets": {
   "state": {
    "003e3d5c9a314cd0870a4968e87816fa": {
     "views": []
    },
    "00fd841f945143558813e3d3d414834b": {
     "views": []
    },
    "02392ad8465f4ed9ae874af67695481e": {
     "views": []
    },
    "0571d4976167471c9199edddc59694b1": {
     "views": []
    },
    "078ee13e8b7f4bd9be849d24421b8e15": {
     "views": []
    },
    "0a035a79376d4a13af2260d08fa73d7c": {
     "views": []
    },
    "0a3193cfd2fa40efaef627e0debf4249": {
     "views": []
    },
    "0a81208d98df4fee94f462fc52c9c9d8": {
     "views": []
    },
    "0c810dd5aff3421d9444fd553c0bad94": {
     "views": []
    },
    "0d75a724b59a4cb8a2739aa3d002531e": {
     "views": []
    },
    "0dc07d0df16d4fbd8bffd2da96a1d215": {
     "views": []
    },
    "0f6778e744e64aef92112557b736c451": {
     "views": []
    },
    "10c1b336f3784ae29b1437f5e214ce43": {
     "views": []
    },
    "145349cdd50947ae92fbd2554674cce4": {
     "views": []
    },
    "17e4c8d9bf914fd4b56924e7faec9f77": {
     "views": []
    },
    "18b36317e3ce47dc8c780d72a73ccf3f": {
     "views": []
    },
    "1e22eae13b9b4d5a846ff3997fca8a72": {
     "views": []
    },
    "1ecbe35035fc43abb6232869d864c378": {
     "views": []
    },
    "1f387b9fd37546aab902298b3238e889": {
     "views": []
    },
    "2124dc97e5e3479a9d65be6eb0434f5f": {
     "views": []
    },
    "231e4a1a37d04fe2a875f66798ca1cb7": {
     "views": []
    },
    "23b9f698992446608430f514e1cfe7ac": {
     "views": []
    },
    "23d2154c364244568761ad4b670f133b": {
     "views": []
    },
    "25493156713e4c4b81fe0934ec28b52e": {
     "views": []
    },
    "259c18a4b72a416a8fa4e196d2c2e6bf": {
     "views": []
    },
    "275cbb26c283424aa927540da4aff81e": {
     "views": []
    },
    "279e0d8ed06f41938332bd6451c8eafc": {
     "views": []
    },
    "28df985671b648739200b108eca083d2": {
     "views": []
    },
    "2beca11d23e14eee80b2cc233036cb3b": {
     "views": []
    },
    "2bf897d9f01440f3ab34e0673494ea6c": {
     "views": []
    },
    "2c7bca49262d47fe898c6475c534413c": {
     "views": []
    },
    "2e6430c8af984447999f1fd5b03ab317": {
     "views": []
    },
    "2e92a8c8879a4211b2c2a7d75382a156": {
     "views": []
    },
    "2f0d986747784a85990990b2e0cee76a": {
     "views": []
    },
    "2f84f60f3fac4d9293761ff1ea713869": {
     "views": []
    },
    "2fd0b1a7f4024ca294bd59896d329465": {
     "views": []
    },
    "312b8cc01ea8463e9f8731db714f6e5b": {
     "views": []
    },
    "3199af37344d4ed99d079e5a372a8194": {
     "views": []
    },
    "3324295018754560b8b1e660d9122a4c": {
     "views": []
    },
    "35186329995e41d78bb3a0f4724ccbec": {
     "views": []
    },
    "35a238ddf3214bbd9f8c8e129cb8868f": {
     "views": []
    },
    "36394c5be6c041f99f42965087c36fd6": {
     "views": []
    },
    "3649276d04b245b3b3c9d903b072962e": {
     "views": []
    },
    "37ec7d5e18d3424f8b95e26967e4a87b": {
     "views": []
    },
    "3cf4313b4ba542d89c00f600e21ac24b": {
     "views": []
    },
    "3dae225b280d4f629e2c7f4ed30560f2": {
     "views": []
    },
    "3ef6019eddde4fdbbe83ad9e2834de8e": {
     "views": []
    },
    "3f1755f90de84a1e90d964c570f72576": {
     "views": []
    },
    "40f7288b21534a4f915038ca5b04c56f": {
     "views": []
    },
    "4127e3c6447943e7a2f2eb234cb15842": {
     "views": []
    },
    "41c583b3748145eb80290814a048cb35": {
     "views": []
    },
    "41db0548fa1b445fadf134b4ffcaf0db": {
     "views": []
    },
    "425612f54e814bc7aac28cd832710385": {
     "views": []
    },
    "463ce28c50bd4e109e5d7732f34b1fb0": {
     "views": []
    },
    "4c2c24b6143b418495aa2e8bf9011ab7": {
     "views": []
    },
    "4cbaa98b6ce14abda28b801f01a20da2": {
     "views": []
    },
    "4e223ad88eca4516adb68391bad9316d": {
     "views": []
    },
    "50f16afd2d5b45e1bab20f4cda09e014": {
     "views": []
    },
    "534dc56b342d4b578b7978471cdd9f32": {
     "views": []
    },
    "56b9ca84a3814f37b4aff10e20042177": {
     "views": []
    },
    "58167fbd514a4b42af22ee9c7a15fda8": {
     "views": []
    },
    "5dcb98a50e51403d8d52509aad5967f0": {
     "views": []
    },
    "61ecaa220fe74547abb59d88358327bf": {
     "views": []
    },
    "62495f6023af4758a872e51a2a9ab35a": {
     "views": []
    },
    "6271a653eb474c4bb370eb319b62a5d6": {
     "views": []
    },
    "62d005f4536b4a12803f58afc6efc412": {
     "views": []
    },
    "63f87f3fa6f94f5b90c74999da890797": {
     "views": []
    },
    "66ac9582b02047a9910778ba56b3342e": {
     "views": []
    },
    "68532106479e4171913f4a49ee199ec2": {
     "views": []
    },
    "686898edf8884a78b8416154ef289d66": {
     "views": []
    },
    "6b1cda4029ca406d9c232ca1ecefeeb0": {
     "views": []
    },
    "6fc3e9a2b05646409f7ff622ad558822": {
     "views": []
    },
    "6fe7527e8a434abe93621c312bec5a69": {
     "views": []
    },
    "7052b2eb390e40d2944c7e5bbff50bf8": {
     "views": []
    },
    "7115f7c671544b23933772124750eb75": {
     "views": []
    },
    "71527b59cd7d484fae1bce760adcc00a": {
     "views": []
    },
    "71922feb39b145a4b6716a8f71cdb44f": {
     "views": []
    },
    "77b2b1573f2d4b3fa1dc2d4f4d4e5e6b": {
     "views": []
    },
    "799a0b220c424faaa7637249c97726fb": {
     "views": []
    },
    "79e325feba2c47c6a490050bc08fe0d2": {
     "views": []
    },
    "79fa45a05adf4ad193e4c57e8fee737f": {
     "views": []
    },
    "7a00638cbf4b4a77b2b1947a6f18d825": {
     "views": []
    },
    "7c8f993b3e9e4cc995078ca1c400ef8c": {
     "views": []
    },
    "7deb0b5b6a25485c97bed5dfb5cd7620": {
     "views": []
    },
    "7f6ddfe055bc445ca900daf626075ced": {
     "views": []
    },
    "80c0a1ad7dd54706b775a432470a3ba4": {
     "views": []
    },
    "80debf109f45429f860ebf0b21a55032": {
     "views": []
    },
    "83047bfd13ab4cd094cfed97333008bd": {
     "views": []
    },
    "832a6307ca204ec0863136ca93319a41": {
     "views": []
    },
    "83cb810685d245a2a78729dcd3a23603": {
     "views": []
    },
    "8563595cb6264a32b31154b6dbb7f85c": {
     "views": []
    },
    "85d2ae8137f0425ea6f9e00e96aea2ce": {
     "views": []
    },
    "8e4b5b9e663742238cd4c25511e1dbf7": {
     "views": []
    },
    "902e552432a7465eb88172122e8f9052": {
     "views": []
    },
    "90a93e11300e4e07886c19d5fd18446d": {
     "views": []
    },
    "92d6cc2d3b05478481207fe5be884430": {
     "views": []
    },
    "9371fcf88ba9460fa64e6cb42ef115db": {
     "views": []
    },
    "952d9b2f62a0468186c1c3847075b817": {
     "views": []
    },
    "954b93807e1f41668044e14ab68b29f5": {
     "views": []
    },
    "959179da790c41fc977647d49504db71": {
     "views": []
    },
    "971361de4e9a4c39a7131719e988039c": {
     "views": []
    },
    "982d51b49a61411cbda401320ba3d47e": {
     "views": []
    },
    "99a410e777514a15b432fc4ae5bebb36": {
     "views": []
    },
    "9f18657990e240cb88ee01c9202d77a9": {
     "views": []
    },
    "9f63e946e71f470081e4ecaaa61dce41": {
     "views": []
    },
    "9f7aa73b153247f0899b26e614f9b4be": {
     "views": []
    },
    "a1c227dbd1e045698bd94dd93b89c32b": {
     "views": []
    },
    "a70f34b894014fda9d2a745779f9fece": {
     "views": []
    },
    "a8ca85e10bbb485d839c4e4f381a36d4": {
     "views": []
    },
    "aa5720f2d6744db3bca37bf3b81e7aa2": {
     "views": []
    },
    "aab8297ec3af49939a5608be8ace21e2": {
     "views": []
    },
    "acadddeae0f14511b0df3110f013c25e": {
     "views": []
    },
    "ad5e2b21a8aa46c3a7dac14650a4c656": {
     "views": []
    },
    "adbcf323a5154042a1995813f33af71a": {
     "views": []
    },
    "af9ac3a8f9b144119e510d992c8744f2": {
     "views": []
    },
    "b0ae214b26c34344a485df8a85f82422": {
     "views": []
    },
    "b0c6afcf3981459eafc96e5d506ca666": {
     "views": []
    },
    "b28c092635ea4686a869c16b85992e7d": {
     "views": []
    },
    "b32c4471133c400f8ddf0e8e7f5f0fa3": {
     "views": []
    },
    "b60da03a6447483dbce02188ffd5a127": {
     "views": []
    },
    "b6125a419a654f86ad3e90c14cef4990": {
     "views": []
    },
    "b61994bfb70e4a2fb83f5661b5bbede5": {
     "views": []
    },
    "bbb201afdbfc4089a5f5171300e14d32": {
     "views": []
    },
    "bd31b5017c7a4f3eb4ba9dc93f361815": {
     "views": []
    },
    "c8294482b7eb41b4a5b75197ae963543": {
     "views": []
    },
    "c96e4ade37a84f8ab4010678ba872ee5": {
     "views": []
    },
    "cb1c4f672392408e87242d3d1e42021b": {
     "views": []
    },
    "cc92c95571454d7a89005f041a335079": {
     "views": []
    },
    "ccc640b09a8f46df852cc40e511d8087": {
     "views": []
    },
    "ccec5ff5ce704dd8b96d1e2fd2321683": {
     "views": []
    },
    "ce965699b80740dca460d26c7acf69de": {
     "views": []
    },
    "cea647adc2a34a538451fe73eab7600f": {
     "views": []
    },
    "d1fe51d25d574b269d307dc7326e7c5f": {
     "views": []
    },
    "d23e4575dff447ae93a916ff77a2ea7f": {
     "views": []
    },
    "d287875d187f4489b08f81f9800ae50b": {
     "views": []
    },
    "d4555ba6c9584009ab8001b62d68ed0a": {
     "views": []
    },
    "d601ce3d70b0444bbaa626fade56f2bc": {
     "views": []
    },
    "d71e5352e94a4cf7a5ab789d40f1f2ae": {
     "views": []
    },
    "d7e6b4a30b0c466982068c7f3393f5a0": {
     "views": []
    },
    "da9d562db10a47459847e5ccc1cc1631": {
     "views": []
    },
    "dc10d03d98164718a1022296a6365f7c": {
     "views": []
    },
    "dda501c63a394d1cb47b22ec6f04958d": {
     "views": []
    },
    "dda720b84a4745c1b9be6cbdcd445f8f": {
     "views": []
    },
    "de7415a148f1463496651cf9ae7b96d5": {
     "views": []
    },
    "e08fd0826e904b93880032d9936b50b3": {
     "views": []
    },
    "e10e368c288f47af98ecfa56a3ea6227": {
     "views": []
    },
    "e2c6e3e77c864b3094e5ea5b943f3fcc": {
     "views": []
    },
    "e384f425db43470993d9304738e285eb": {
     "views": []
    },
    "e54515aab2134cb4aeb9c7f75c9c6750": {
     "views": []
    },
    "e54aa935a1274d20af3361d2a1bb76de": {
     "views": []
    },
    "e776da6e5f044c778dbd1b9b7de9afef": {
     "views": []
    },
    "e804f56fbdc04d868be5aaa4027496df": {
     "views": []
    },
    "ea0f7d0271ef4c9bb7c590a9f8232dbd": {
     "views": []
    },
    "eb2599c1df124b289b6dbbcd11da49bc": {
     "views": []
    },
    "eb65dde7d4ef4902a72d032d29c00ece": {
     "views": []
    },
    "edafc5c80a9d461ab60723620a077374": {
     "views": []
    },
    "eed3a8213d33438b9561991304881788": {
     "views": []
    },
    "efc8319e4d5542d897534d9d1b09b487": {
     "views": []
    },
    "f5729b6efbe64d1b8bf0700b47a88d4d": {
     "views": []
    },
    "ff47ab45627b4803884cf9f162aac5d0": {
     "views": []
    }
   },
   "version": "1.1.2"
  }
 },
 "nbformat": 4,
 "nbformat_minor": 0
}
